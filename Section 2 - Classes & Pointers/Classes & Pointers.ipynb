{
 "cells": [
  {
   "cell_type": "markdown",
   "id": "496d36e2-9e97-4603-a492-55a9d2515dc5",
   "metadata": {},
   "source": [
    "**Classes**"
   ]
  },
  {
   "cell_type": "code",
   "execution_count": 11,
   "id": "004d5e46-1dac-44e3-ba57-399209d744a6",
   "metadata": {},
   "outputs": [],
   "source": [
    "class Cookie:\n",
    "    def __init__(self, color):\n",
    "        self.color = color\n",
    "\n",
    "    def get_color(self):\n",
    "        return self.color\n",
    "\n",
    "    def set_color(self, color):\n",
    "        self.color = color\n",
    "\n",
    "# cookie1 = Cookie('Blue')\n",
    "# print(cookie1.get_color())\n",
    "# cookie1.set_color('Green')\n",
    "# print(cookie1.get_color())"
   ]
  },
  {
   "cell_type": "markdown",
   "id": "137f0fd2-c814-47d0-a482-c9c37978763e",
   "metadata": {},
   "source": [
    "**Pointers**"
   ]
  },
  {
   "cell_type": "code",
   "execution_count": 16,
   "id": "b7dc6b15-c3ce-49f0-9201-f97cfb15075f",
   "metadata": {},
   "outputs": [],
   "source": [
    "# Integers are immutable\n",
    "num1 = 11\n",
    "\n",
    "num2 = num1\n",
    "\n",
    "# print(\"Before num2 value is updated:\")\n",
    "# print(\"num1 =\", num1)\n",
    "# print(\"num2 =\", num2)\n",
    "\n",
    "# print(\"\\nnum1 points to:\", id(num1))\n",
    "# print(\"num2 points to:\", id(num2)) \n",
    "\n",
    "num2 = 22 \n",
    "\n",
    "# print(\"\\nAfter num2 value is updated:\")\n",
    "# print(\"num1 =\", num1)\n",
    "# print(\"num2 =\", num2) \n",
    "\n",
    "# print(\"\\nnum1 points to:\", id(num1))\n",
    "# print(\"num2 points to:\", id(num2))\n",
    "\n",
    "\n",
    "#####################################\n",
    "\n",
    "# Dictionaries are mutable\n",
    "dict1 = {\n",
    "         'value': 11\n",
    "        }\n",
    "\n",
    "dict2 = dict1 \n",
    "\n",
    "# print(\"\\n\\nBefore value is updated:\")\n",
    "# print(\"dict1 =\", dict1)\n",
    "# print(\"dict2 =\", dict2)\n",
    "\n",
    "# print(\"\\ndict1 points to:\", id(dict1))\n",
    "# print(\"dict2 points to:\", id(dict2)) \n",
    "\n",
    "dict2['value'] = 22\n",
    "\n",
    "# print(\"\\nAfter value is updated:\")\n",
    "# print(\"dict1 =\", dict1)\n",
    "# print(\"dict2 =\", dict2) \n",
    "\n",
    "# print(\"\\ndict1 points to:\", id(dict1))\n",
    "# print(\"dict2 points to:\", id(dict2))"
   ]
  },
  {
   "cell_type": "code",
   "execution_count": null,
   "id": "f8edb3aa-2587-4fe0-b07b-2c054d62f939",
   "metadata": {},
   "outputs": [],
   "source": []
  }
 ],
 "metadata": {
  "kernelspec": {
   "display_name": "Python 3 (ipykernel)",
   "language": "python",
   "name": "python3"
  },
  "language_info": {
   "codemirror_mode": {
    "name": "ipython",
    "version": 3
   },
   "file_extension": ".py",
   "mimetype": "text/x-python",
   "name": "python",
   "nbconvert_exporter": "python",
   "pygments_lexer": "ipython3",
   "version": "3.12.4"
  }
 },
 "nbformat": 4,
 "nbformat_minor": 5
}
